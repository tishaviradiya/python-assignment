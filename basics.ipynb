{
  "nbformat": 4,
  "nbformat_minor": 0,
  "metadata": {
    "colab": {
      "provenance": []
    },
    "kernelspec": {
      "name": "python3",
      "display_name": "Python 3"
    },
    "language_info": {
      "name": "python"
    }
  },
  "cells": [
    {
      "cell_type": "code",
      "execution_count": null,
      "metadata": {
        "id": "xJK4WbBmQ-1r"
      },
      "outputs": [],
      "source": [
        "1. What is Python, and why is it popular?\n",
        "Python is a high-level, interpreted programming language known for its simplicity and readability. It's popular because it has:\n",
        "\n",
        "A simple syntax similar to English\n",
        "\n",
        "A large standard library\n",
        "\n",
        "Extensive community support\n",
        "\n",
        "Versatility (web dev, data science, automation, etc.)\n",
        "\n"
      ]
    },
    {
      "cell_type": "code",
      "source": [
        "2. What is an interpreter in Python?\n",
        "An interpreter is a program that reads and executes Python code line by line. It translates high-level Python code into machine language during runtime."
      ],
      "metadata": {
        "id": "ykg6Q_GKSZv1"
      },
      "execution_count": null,
      "outputs": []
    },
    {
      "cell_type": "code",
      "source": [
        "3. What are pre-defined keywords in Python?\n",
        "Keywords are reserved words that have special meaning in Python, such as if, else, for, def, class, etc. They cannot be used as variable names."
      ],
      "metadata": {
        "id": "DWETW7P3ScfF"
      },
      "execution_count": null,
      "outputs": []
    },
    {
      "cell_type": "code",
      "source": [
        "4. Can keywords be used as variable names?\n",
        "No, keywords cannot be used as variable names because they are reserved for specific language functions and syntax."
      ],
      "metadata": {
        "id": "GrPUtwMSSf72"
      },
      "execution_count": null,
      "outputs": []
    },
    {
      "cell_type": "code",
      "source": [
        "5. What is mutability in Python?\n",
        "Mutability refers to whether an object’s state (data) can be changed after it is created.\n",
        "\n",
        "Mutable: Lists, dictionaries, sets\n",
        "\n",
        "Immutable: Tuples, strings, integers"
      ],
      "metadata": {
        "id": "Th86SpYVSiBo"
      },
      "execution_count": null,
      "outputs": []
    },
    {
      "cell_type": "code",
      "source": [
        "6. Why are lists mutable, but tuples are immutable?\n",
        "Lists are designed to be dynamic and allow modifications like adding or removing elements.\n",
        "Tuples are designed for fixed data and are optimized for performance and safety when data shouldn’t change."
      ],
      "metadata": {
        "id": "AshBkFypSkRw"
      },
      "execution_count": null,
      "outputs": []
    },
    {
      "cell_type": "code",
      "source": [
        "7. What is the difference between == and is operators in Python?\n",
        "==: Compares values (content equality)\n",
        "\n",
        "is: Compares identities (whether two variables point to the same object in memory)"
      ],
      "metadata": {
        "id": "wEqsclhTSmSi"
      },
      "execution_count": null,
      "outputs": []
    },
    {
      "cell_type": "code",
      "source": [
        "8. What are logical operators in Python?\n",
        "Logical operators are used to combine conditional statements:\n",
        "\n",
        "and: Returns True if both conditions are true\n",
        "\n",
        "or: Returns True if at least one condition is true\n",
        "\n",
        "not: Reverses the result (True to False, and vice versa)"
      ],
      "metadata": {
        "id": "4Gm_QaHcSodQ"
      },
      "execution_count": null,
      "outputs": []
    },
    {
      "cell_type": "code",
      "source": [
        "9. What is type casting in Python?\n",
        "Type casting is converting a value from one data type to another, e.g.,"
      ],
      "metadata": {
        "id": "E0uksV0qSqUF"
      },
      "execution_count": null,
      "outputs": []
    },
    {
      "cell_type": "code",
      "source": [
        "10. What is the difference between implicit and explicit type casting?\n",
        "Implicit: Python automatically converts types (e.g., int to float)\n",
        "\n",
        "Explicit: The programmer manually converts the type using functions like int(), str(), etc."
      ],
      "metadata": {
        "id": "cLOQ42EESsoN"
      },
      "execution_count": null,
      "outputs": []
    },
    {
      "cell_type": "code",
      "source": [
        "11. What is the purpose of conditional statements in Python?\n",
        "Conditional statements (if, elif, else) are used to perform different actions based on different conditions. They control the flow of the program."
      ],
      "metadata": {
        "id": "8Ssz1Ya5SwS5"
      },
      "execution_count": null,
      "outputs": []
    },
    {
      "cell_type": "code",
      "source": [
        "12. How does the elif statement work?\n",
        "elif (short for \"else if\") allows you to check multiple conditions. It's used after if and before else.\n",
        "if x == 1:\n",
        "    print(\"One\")\n",
        "elif x == 2:\n",
        "    print(\"Two\")\n",
        "else:\n",
        "    print(\"Other\")\n"
      ],
      "metadata": {
        "id": "BsZ4vHxlSw4X"
      },
      "execution_count": null,
      "outputs": []
    },
    {
      "cell_type": "code",
      "source": [
        "13. What is the difference between for and while loops?\n",
        "for loop: Used when you know how many times to iterate (e.g., looping over a list).\n",
        "\n",
        "while loop: Used when you want to loop until a condition becomes False."
      ],
      "metadata": {
        "id": "ljoecWtpS1PY"
      },
      "execution_count": null,
      "outputs": []
    },
    {
      "cell_type": "code",
      "source": [
        "14. Describe a scenario where a while loop is more suitable than a for loop.\n",
        "When you don’t know how many iterations are needed ahead of time.\n",
        "while True:\n",
        "    user_input = input(\"Enter something: \")\n",
        "    if user_input == \"quit\":\n",
        "        break\n"
      ],
      "metadata": {
        "id": "Ao28Gnh6S3bB"
      },
      "execution_count": null,
      "outputs": []
    },
    {
      "cell_type": "code",
      "source": [
        "PREACTICAL QUESTIONS"
      ],
      "metadata": {
        "id": "YAaRRn2IS9mR"
      },
      "execution_count": null,
      "outputs": []
    },
    {
      "cell_type": "code",
      "source": [
        "1.print(\"Hello, World!\")\n"
      ],
      "metadata": {
        "id": "oFgVoFwITJLE"
      },
      "execution_count": null,
      "outputs": []
    },
    {
      "cell_type": "code",
      "source": [
        "2.name = \"John\"\n",
        "age = 25\n",
        "print(\"Name:\", name)\n",
        "print(\"Age:\", age)\n"
      ],
      "metadata": {
        "id": "jH1n8j7hTK-7"
      },
      "execution_count": null,
      "outputs": []
    },
    {
      "cell_type": "code",
      "source": [
        "3.import keyword\n",
        "print(keyword.kwlist)\n"
      ],
      "metadata": {
        "id": "nwCHcUosTNMs"
      },
      "execution_count": null,
      "outputs": []
    },
    {
      "cell_type": "code",
      "source": [
        "4.import keyword\n",
        "word = input(\"Enter a word: \")\n",
        "if keyword.iskeyword(word):\n",
        "    print(f\"{word} is a Python keyword.\")\n",
        "else:\n",
        "    print(f\"{word} is NOT a Python keyword.\")\n"
      ],
      "metadata": {
        "id": "AbEf_rwHTPjH"
      },
      "execution_count": null,
      "outputs": []
    },
    {
      "cell_type": "code",
      "source": [
        "5.my_list = [1, 2, 3]\n",
        "my_tuple = (1, 2, 3)\n",
        "\n",
        "# Modifying list\n",
        "my_list[0] = 100\n",
        "print(\"Modified list:\", my_list)\n",
        "\n",
        "# Trying to modify tuple (will raise an error)\n",
        "try:\n",
        "    my_tuple[0] = 100\n",
        "except TypeError as e:\n",
        "    print(\"Error modifying tuple:\", e)\n"
      ],
      "metadata": {
        "id": "kmUNieHGTUhl"
      },
      "execution_count": null,
      "outputs": []
    },
    {
      "cell_type": "code",
      "source": [
        "6.def modify_list(lst):\n",
        "    lst.append(4)\n",
        "\n",
        "def modify_int(x):\n",
        "    x += 1\n",
        "    return x\n",
        "\n",
        "a = [1, 2, 3]\n",
        "b = 10\n",
        "\n",
        "modify_list(a)\n",
        "print(\"List after function call:\", a)\n",
        "\n",
        "b = modify_int(b)\n",
        "print(\"Integer after function call:\", b)\n"
      ],
      "metadata": {
        "id": "jhsa3cQmTXKs"
      },
      "execution_count": null,
      "outputs": []
    },
    {
      "cell_type": "code",
      "source": [
        "7.a = float(input(\"Enter first number: \"))\n",
        "b = float(input(\"Enter second number: \"))\n",
        "\n",
        "print(\"Addition:\", a + b)\n",
        "print(\"Subtraction:\", a - b)\n",
        "print(\"Multiplication:\", a * b)\n",
        "print(\"Division:\", a / b if b != 0 else \"Cannot divide by zero\")\n"
      ],
      "metadata": {
        "id": "NAnR5CwSTZll"
      },
      "execution_count": null,
      "outputs": []
    },
    {
      "cell_type": "code",
      "source": [
        "8.a = True\n",
        "b = False\n",
        "\n",
        "print(\"a and b:\", a and b)\n",
        "print(\"a or b:\", a or b)\n",
        "print(\"not a:\", not a)\n"
      ],
      "metadata": {
        "id": "S29tBGtITcDJ"
      },
      "execution_count": null,
      "outputs": []
    },
    {
      "cell_type": "code",
      "source": [
        "9.value = input(\"Enter a value: \")\n",
        "\n",
        "print(\"As integer:\", int(value))\n",
        "print(\"As float:\", float(value))\n",
        "print(\"As boolean:\", bool(value))\n"
      ],
      "metadata": {
        "id": "956ZTzG9TeIW"
      },
      "execution_count": null,
      "outputs": []
    },
    {
      "cell_type": "code",
      "source": [
        "10.str_list = [\"1\", \"2\", \"3\"]\n",
        "int_list = [int(x) for x in str_list]\n",
        "print(\"Converted list:\", int_list)\n"
      ],
      "metadata": {
        "id": "tocEEF3CTgOg"
      },
      "execution_count": null,
      "outputs": []
    },
    {
      "cell_type": "code",
      "source": [
        "11.num = float(input(\"Enter a number: \"))\n",
        "\n",
        "if num > 0:\n",
        "    print(\"Positive\")\n",
        "elif num < 0:\n",
        "    print(\"Negative\")\n",
        "else:\n",
        "    print(\"Zero\")\n"
      ],
      "metadata": {
        "id": "BfqE58wbTiYM"
      },
      "execution_count": null,
      "outputs": []
    },
    {
      "cell_type": "code",
      "source": [
        "12.for i in range(1, 11):\n",
        "    print(i)\n"
      ],
      "metadata": {
        "id": "K30onIpSTlWM"
      },
      "execution_count": null,
      "outputs": []
    },
    {
      "cell_type": "code",
      "source": [
        "13.even_sum = 0\n",
        "for i in range(2, 51, 2):\n",
        "    even_sum += i\n",
        "print(\"Sum of even numbers from 1 to 50:\", even_sum)\n"
      ],
      "metadata": {
        "id": "qbKaj_L-TnXV"
      },
      "execution_count": null,
      "outputs": []
    },
    {
      "cell_type": "code",
      "source": [
        "14.s = input(\"Enter a string: \")\n",
        "reversed_s = \"\"\n",
        "i = len(s) - 1\n",
        "\n",
        "while i >= 0:\n",
        "    reversed_s += s[i]\n",
        "    i -= 1\n",
        "\n",
        "print(\"Reversed string:\", reversed_s)\n"
      ],
      "metadata": {
        "id": "6-UhnTEqTplg"
      },
      "execution_count": null,
      "outputs": []
    },
    {
      "cell_type": "code",
      "source": [
        "15.num = int(input(\"Enter a number: \"))\n",
        "fact = 1\n",
        "i = 1\n",
        "\n",
        "while i <= num:\n",
        "    fact *= i\n",
        "    i += 1\n",
        "\n",
        "print(f\"Factorial of {num} is {fact}\")\n"
      ],
      "metadata": {
        "id": "d9qQIpTZTry8"
      },
      "execution_count": null,
      "outputs": []
    }
  ]
}